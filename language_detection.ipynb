{
 "cells": [
  {
   "cell_type": "code",
   "execution_count": 1,
   "id": "c3bacdbb",
   "metadata": {},
   "outputs": [],
   "source": [
    "import pandas as pd\n",
    "import numpy as np\n",
    "import string\n",
    "import re"
   ]
  },
  {
   "cell_type": "code",
   "execution_count": 2,
   "id": "2604e5de",
   "metadata": {},
   "outputs": [
    {
     "data": {
      "text/html": [
       "<div>\n",
       "<style scoped>\n",
       "    .dataframe tbody tr th:only-of-type {\n",
       "        vertical-align: middle;\n",
       "    }\n",
       "\n",
       "    .dataframe tbody tr th {\n",
       "        vertical-align: top;\n",
       "    }\n",
       "\n",
       "    .dataframe thead th {\n",
       "        text-align: right;\n",
       "    }\n",
       "</style>\n",
       "<table border=\"1\" class=\"dataframe\">\n",
       "  <thead>\n",
       "    <tr style=\"text-align: right;\">\n",
       "      <th></th>\n",
       "      <th>Text</th>\n",
       "      <th>Language</th>\n",
       "    </tr>\n",
       "  </thead>\n",
       "  <tbody>\n",
       "    <tr>\n",
       "      <th>0</th>\n",
       "      <td>Nature, in the broadest sense, is the natural...</td>\n",
       "      <td>English</td>\n",
       "    </tr>\n",
       "    <tr>\n",
       "      <th>1</th>\n",
       "      <td>\"Nature\" can refer to the phenomena of the phy...</td>\n",
       "      <td>English</td>\n",
       "    </tr>\n",
       "    <tr>\n",
       "      <th>2</th>\n",
       "      <td>The study of nature is a large, if not the onl...</td>\n",
       "      <td>English</td>\n",
       "    </tr>\n",
       "    <tr>\n",
       "      <th>3</th>\n",
       "      <td>Although humans are part of nature, human acti...</td>\n",
       "      <td>English</td>\n",
       "    </tr>\n",
       "    <tr>\n",
       "      <th>4</th>\n",
       "      <td>[1] The word nature is borrowed from the Old F...</td>\n",
       "      <td>English</td>\n",
       "    </tr>\n",
       "  </tbody>\n",
       "</table>\n",
       "</div>"
      ],
      "text/plain": [
       "                                                Text Language\n",
       "0   Nature, in the broadest sense, is the natural...  English\n",
       "1  \"Nature\" can refer to the phenomena of the phy...  English\n",
       "2  The study of nature is a large, if not the onl...  English\n",
       "3  Although humans are part of nature, human acti...  English\n",
       "4  [1] The word nature is borrowed from the Old F...  English"
      ]
     },
     "execution_count": 2,
     "metadata": {},
     "output_type": "execute_result"
    }
   ],
   "source": [
    "data=pd.read_csv('Language Detection.csv')\n",
    "data.head()"
   ]
  },
  {
   "cell_type": "code",
   "execution_count": 3,
   "id": "08d66077",
   "metadata": {},
   "outputs": [
    {
     "data": {
      "text/plain": [
       "'!\"#$%&\\'()*+,-./:;<=>?@[\\\\]^_`{|}~'"
      ]
     },
     "execution_count": 3,
     "metadata": {},
     "output_type": "execute_result"
    }
   ],
   "source": [
    "string.punctuation"
   ]
  },
  {
   "cell_type": "code",
   "execution_count": 4,
   "id": "0b9e8f0a",
   "metadata": {},
   "outputs": [],
   "source": [
    "def remove(text):\n",
    "    for i in string.punctuation:\n",
    "        text=text.replace(i,'')\n",
    "    text=text.lower()\n",
    "    return(text)\n",
    "        "
   ]
  },
  {
   "cell_type": "code",
   "execution_count": 5,
   "id": "6e96de2a",
   "metadata": {},
   "outputs": [],
   "source": [
    "data['Text']=data['Text'].apply(remove)"
   ]
  },
  {
   "cell_type": "code",
   "execution_count": 6,
   "id": "fd3cee78",
   "metadata": {},
   "outputs": [
    {
     "name": "stderr",
     "output_type": "stream",
     "text": [
      "C:\\Users\\Anjal\\anaconda3\\lib\\site-packages\\scipy\\__init__.py:155: UserWarning: A NumPy version >=1.18.5 and <1.25.0 is required for this version of SciPy (detected version 1.26.2\n",
      "  warnings.warn(f\"A NumPy version >={np_minversion} and <{np_maxversion}\"\n"
     ]
    }
   ],
   "source": [
    "from sklearn.model_selection import train_test_split"
   ]
  },
  {
   "cell_type": "code",
   "execution_count": 7,
   "id": "ad29bdd0",
   "metadata": {},
   "outputs": [],
   "source": [
    "x=data['Text']\n",
    "y=data['Language']"
   ]
  },
  {
   "cell_type": "code",
   "execution_count": 8,
   "id": "856dca79",
   "metadata": {},
   "outputs": [
    {
     "data": {
      "text/plain": [
       "0    English\n",
       "1    English\n",
       "2    English\n",
       "3    English\n",
       "4    English\n",
       "Name: Language, dtype: object"
      ]
     },
     "execution_count": 8,
     "metadata": {},
     "output_type": "execute_result"
    }
   ],
   "source": [
    "y.head()"
   ]
  },
  {
   "cell_type": "code",
   "execution_count": 9,
   "id": "c62fdb8d",
   "metadata": {},
   "outputs": [
    {
     "data": {
      "text/plain": [
       "0     nature in the broadest sense is the natural p...\n",
       "1    nature can refer to the phenomena of the physi...\n",
       "2    the study of nature is a large if not the only...\n",
       "3    although humans are part of nature human activ...\n",
       "4    1 the word nature is borrowed from the old fre...\n",
       "Name: Text, dtype: object"
      ]
     },
     "execution_count": 9,
     "metadata": {},
     "output_type": "execute_result"
    }
   ],
   "source": [
    "x.head()"
   ]
  },
  {
   "cell_type": "code",
   "execution_count": 10,
   "id": "a14e4448",
   "metadata": {},
   "outputs": [],
   "source": [
    "x_train, x_test, y_train, y_test= train_test_split(x,y,test_size=0.2)"
   ]
  },
  {
   "cell_type": "code",
   "execution_count": 11,
   "id": "2cca7775",
   "metadata": {},
   "outputs": [],
   "source": [
    "from sklearn.feature_extraction.text import TfidfVectorizer\n",
    "\n",
    "vd = TfidfVectorizer(ngram_range=(1, 2), analyzer='char')"
   ]
  },
  {
   "cell_type": "code",
   "execution_count": 12,
   "id": "1394a5bd",
   "metadata": {},
   "outputs": [],
   "source": [
    "# Define the pipeline\n",
    "from sklearn.pipeline import Pipeline\n",
    "from sklearn.linear_model import LogisticRegression"
   ]
  },
  {
   "cell_type": "code",
   "execution_count": 13,
   "id": "a05b1370",
   "metadata": {},
   "outputs": [],
   "source": [
    "pipe=Pipeline([('vd',vd),('classifier',LogisticRegression())])"
   ]
  },
  {
   "cell_type": "code",
   "execution_count": 14,
   "id": "7849fdd8",
   "metadata": {},
   "outputs": [
    {
     "data": {
      "text/plain": [
       "Pipeline(steps=[('vd', TfidfVectorizer(analyzer='char', ngram_range=(1, 2))),\n",
       "                ('classifier', LogisticRegression())])"
      ]
     },
     "execution_count": 14,
     "metadata": {},
     "output_type": "execute_result"
    }
   ],
   "source": [
    "pipe\n"
   ]
  },
  {
   "cell_type": "code",
   "execution_count": 15,
   "id": "bc5fe506",
   "metadata": {},
   "outputs": [],
   "source": [
    "model = pipe.fit(x_train, y_train)\n"
   ]
  },
  {
   "cell_type": "code",
   "execution_count": 16,
   "id": "e3079727",
   "metadata": {},
   "outputs": [],
   "source": [
    "pred=model.predict(x_test)"
   ]
  },
  {
   "cell_type": "code",
   "execution_count": 17,
   "id": "ad86dfca",
   "metadata": {},
   "outputs": [
    {
     "data": {
      "text/plain": [
       "0.9782398452611218"
      ]
     },
     "execution_count": 17,
     "metadata": {},
     "output_type": "execute_result"
    }
   ],
   "source": [
    "from sklearn import metrics\n",
    "metrics.accuracy_score(y_test,pred)"
   ]
  },
  {
   "cell_type": "code",
   "execution_count": 18,
   "id": "89b82b1c",
   "metadata": {},
   "outputs": [],
   "source": [
    "cm=metrics.confusion_matrix(y_test,pred)"
   ]
  },
  {
   "cell_type": "code",
   "execution_count": 19,
   "id": "f5060997",
   "metadata": {},
   "outputs": [
    {
     "data": {
      "image/png": "[encoded data removed]",
      "text/plain": [
       "<Figure size 800x600 with 2 Axes>"
      ]
     },
     "metadata": {},
     "output_type": "display_data"
    }
   ],
   "source": [
    "import seaborn as sns\n",
    "import matplotlib.pyplot as plt\n",
    "plt.figure(figsize=(8, 6))\n",
    "sns.heatmap(cm, annot=True, fmt='d')\n",
    "plt.xlabel('Predicted')\n",
    "plt.ylabel('Actual')\n",
    "plt.title('Confusion Matrix')\n",
    "plt.show()"
   ]
  },
  {
   "cell_type": "code",
   "execution_count": 31,
   "id": "7cc75306",
   "metadata": {},
   "outputs": [
    {
     "data": {
      "text/plain": [
       "array(['French'], dtype=object)"
      ]
     },
     "execution_count": 31,
     "metadata": {},
     "output_type": "execute_result"
    }
   ],
   "source": [
    "model.predict(['Le marché'])"
   ]
  },
  {
   "cell_type": "code",
   "execution_count": 37,
   "id": "f71008d8",
   "metadata": {},
   "outputs": [],
   "source": [
    "import pickle\n",
    "lang_web=open('model.pckl','wb')\n",
    "pickle.dump(model,lang_web)\n",
    "lang_web.close()"
   ]
  },
  {
   "cell_type": "code",
   "execution_count": 34,
   "id": "ac70c888",
   "metadata": {},
   "outputs": [],
   "source": [
    "import os"
   ]
  },
  {
   "cell_type": "code",
   "execution_count": 36,
   "id": "2623ab89",
   "metadata": {},
   "outputs": [
    {
     "data": {
      "text/plain": [
       "['.bash_history',\n",
       " '.conda',\n",
       " '.condarc',\n",
       " '.continuum',\n",
       " '.gitconfig',\n",
       " '.idlerc',\n",
       " '.ipynb_checkpoints',\n",
       " '.ipython',\n",
       " '.jupyter',\n",
       " '.keras',\n",
       " '.lesshst',\n",
       " '.matplotlib',\n",
       " '.spyder-py3',\n",
       " '.vscode',\n",
       " 'accord_sedan.csv',\n",
       " 'anaconda3',\n",
       " 'AppData',\n",
       " 'Application Data',\n",
       " 'Billionaires Statistics Dataset.csv',\n",
       " 'Billioniers_prj.ipynb',\n",
       " 'cars.csv',\n",
       " 'censusCrimeClean.csv',\n",
       " 'churn_model.joblib',\n",
       " 'City_lab2_pds.ipynb',\n",
       " 'City_Pds_2.ipynb',\n",
       " 'Contacts',\n",
       " 'Cookies',\n",
       " 'credit_test.csv',\n",
       " 'credit_train.csv',\n",
       " 'dev-v2.0.csv',\n",
       " 'dev-v2.0.json',\n",
       " 'diabetes.csv',\n",
       " 'Documents',\n",
       " 'Downloads',\n",
       " 'fake news detection.ipynb',\n",
       " 'Favorites',\n",
       " 'heart.csv',\n",
       " 'IBA_IOAPDATA',\n",
       " 'income.csv',\n",
       " 'IntelGraphicsProfiles',\n",
       " 'Jedi',\n",
       " 'keras_index.ipynb',\n",
       " 'kmeans.ipynb',\n",
       " 'Language Detection.csv',\n",
       " 'language_detection.ipynb',\n",
       " 'Links',\n",
       " 'Loan payments data.csv',\n",
       " 'Local Settings',\n",
       " 'london-borough-profilesV2.xlsx',\n",
       " 'Microsoft',\n",
       " 'ML.index.ipynb',\n",
       " 'model.pkl',\n",
       " 'Music',\n",
       " 'My Documents',\n",
       " 'naive bayes.ipynb',\n",
       " 'NCH Software Suite',\n",
       " 'NetHood',\n",
       " 'netScience.graphml.xml',\n",
       " 'nlp_text_preparation.ipynb',\n",
       " 'NTUSER.DAT',\n",
       " 'ntuser.dat.LOG1',\n",
       " 'ntuser.dat.LOG2',\n",
       " 'NTUSER.DAT{54804d11-c130-11eb-baca-000d3aa69c2d}.TM.blf',\n",
       " 'NTUSER.DAT{54804d11-c130-11eb-baca-000d3aa69c2d}.TMContainer00000000000000000001.regtrans-ms',\n",
       " 'NTUSER.DAT{54804d11-c130-11eb-baca-000d3aa69c2d}.TMContainer00000000000000000002.regtrans-ms',\n",
       " 'ntuser.ini',\n",
       " 'OneDrive',\n",
       " 'pds_lab7.ipynb',\n",
       " 'Pds_week8.ipynb',\n",
       " 'Postman',\n",
       " 'PrintHood',\n",
       " 'Recent',\n",
       " 'Saved Games',\n",
       " 'Searches',\n",
       " 'SendTo',\n",
       " 'Start Menu',\n",
       " 'sunbase_c-Copy1.ipynb',\n",
       " 'sunbase_c-Copy1.pdf',\n",
       " 'sunbase_c.ipynb',\n",
       " 'svm model.ipynb',\n",
       " 'Templates',\n",
       " 'test.csv',\n",
       " 'Tiny_data_project.ipynb',\n",
       " 'train.csv',\n",
       " 'Untitled4.ipynb',\n",
       " 'VA_grp_activity1.ipynb',\n",
       " 'Videos',\n",
       " 'week01.py',\n",
       " 'week3_pds_lab.ipynb',\n",
       " 'week4_pdslab.ipynb',\n",
       " 'week9_lab.ipynb',\n",
       " 'wine.csv']"
      ]
     },
     "execution_count": 36,
     "metadata": {},
     "output_type": "execute_result"
    }
   ],
   "source": [
    "os.listdir()"
   ]
  },
  {
   "cell_type": "code",
   "execution_count": null,
   "id": "f932b52a",
   "metadata": {},
   "outputs": [],
   "source": []
  }
 ],
 "metadata": {
  "kernelspec": {
   "display_name": "Python 3 (ipykernel)",
   "language": "python",
   "name": "python3"
  },
  "language_info": {
   "codemirror_mode": {
    "name": "ipython",
    "version": 3
   },
   "file_extension": ".py",
   "mimetype": "text/x-python",
   "name": "python",
   "nbconvert_exporter": "python",
   "pygments_lexer": "ipython3",
   "version": "3.9.13"
  }
 },
 "nbformat": 4,
 "nbformat_minor": 5
}
